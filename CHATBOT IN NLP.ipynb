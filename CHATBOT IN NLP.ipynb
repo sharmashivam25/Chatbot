{
 "cells": [
  {
   "cell_type": "code",
   "execution_count": 1,
   "id": "fc78478e",
   "metadata": {},
   "outputs": [],
   "source": [
    "techstack_link = \"https://www.techstack.in/ :click here to visit to our website\"\n",
    "digital_marketing = \"https://www.techstack.in/digital-marketing/ :click her to see the brochure for Digital Marketing Course\"\n",
    "pg_digital_marketing_link=\"https://www.techstack.in/mba-digital-marketing-post-graduation-diploma-program/ :click here to see brochure for Digital Marketing PG Diploma\"\n",
    "pg_Artificial_Intelligence_link=\"https://www.techstack.in/post-graduation-artificial-intelligence-program/ :click here to see brochure for Artificial Intelligence PG Certification\"\n",
    "courses_after_12= \"https://www.techstack.in/courses-after-12th-science-arts-commerce/ :click here to find the suitable programs after 12th\"\n",
    "master_business_analysis=\"https://www.techstack.in/master-business-analytics-program/ :click here to see the brochure for Master in Data Science\"\n",
    "data_science_link =\"https://www.techstack.in/master-data-science-program/ :click here to see brochure for Data Science Program\" \n",
    "contact=\"kindly contact to given number for more detail\", 9319844494\n",
    "location = \"https://tinyurl.com/yymno8gs\""
   ]
  },
  {
   "cell_type": "code",
   "execution_count": 2,
   "id": "automatic-highway",
   "metadata": {},
   "outputs": [],
   "source": [
    "dic = {\"hello\":\"Hi, I'm techstack bot, I'm here to help you, please ask your query\",       \n",
    "       \"can a non commerce background student also join this field\":\"Yes\",\n",
    "        \"what are your courses and programs\":\"we have courses in Business Analysis,Web Designing,Artifical Intelligence,Digital Marketing\",\n",
    "       \"how many different types of courses do you have\":\"we have courses in Business Analysis,Web Designing,Artifical Intelligence,Digital Marketing\",\n",
    "       \"what are the duration of the programs\":\"6months and 12 months\", \n",
    "       \"for time related query \":contact,\n",
    "       \"show me some courses for 1 year duration\":\"PG in Artifical Intelligence and PG in Digital Marketing\",\n",
    "       \"show me some courses for 6 months duration\": \"Digital marketing , Business Analysis, Data Science\",\n",
    "       \"what is the fees\":contact,\n",
    "       \"contact no and how to contact to you\":contact,\n",
    "       \"what is the location and address\":location,\n",
    "       \"how can i reach to this Institute or techstack\":location,\n",
    "       \"opening hours\":\"10am to 6pm\",\n",
    "      \"types of batch or batches available\":\"weekends and weekdays batch\",\n",
    "      \"weekdays courses are from \":\"weekdays courses are from monday to thursday\",\n",
    "      \"weekends courses are from\":\"weekends courses are from saturday to sunday\",\n",
    "      \"when is the holidays and offs\":\"every friday is off and holidays on national days\",\n",
    "      \"what are the mode or modes of classes\":\"classes are offline and online modes\",\n",
    "      \"can you show me brochure for digital marketing course\":digital_marketing,\n",
    "       \"brocure for Business analytics\":master_business_analysis,\n",
    "       \"brocure for Data Science\":data_science_link,\n",
    "       \"can you suggest me some courses that can I pursue after my 12th or 12 \":courses_after_12,\n",
    "      \"Thank you\":\"I'm happy to help you\"}"
   ]
  },
  {
   "cell_type": "code",
   "execution_count": 3,
   "id": "modified-egyptian",
   "metadata": {},
   "outputs": [],
   "source": [
    "import math\n",
    "from collections import Counter"
   ]
  },
  {
   "cell_type": "code",
   "execution_count": 4,
   "id": "raised-council",
   "metadata": {},
   "outputs": [],
   "source": [
    "def text_to_vector(text):\n",
    "    word  = text.split()\n",
    "    return Counter(word)"
   ]
  },
  {
   "cell_type": "code",
   "execution_count": 5,
   "id": "biological-journal",
   "metadata": {},
   "outputs": [],
   "source": [
    "\n",
    "def cos_simi(text1,text2):\n",
    "    vect1 = text_to_vector(text1)\n",
    "    vect2 = text_to_vector(text2)\n",
    "    com = set(vect1.keys()) & set(vect2.keys())\n",
    "    nume = sum(vect1[i]*vect2[i] for i in com)\n",
    "    deno1 = sum(vect1[i]**2 for i in vect1.keys())\n",
    "    deno2 = sum(vect2[i]**2 for i in vect2.keys())\n",
    "    deno = math.sqrt(deno1)*math.sqrt(deno2)\n",
    "\n",
    "    cosine = nume/deno\n",
    "    return cosine\n",
    "\n"
   ]
  },
  {
   "cell_type": "code",
   "execution_count": null,
   "id": "precise-anchor",
   "metadata": {},
   "outputs": [
    {
     "name": "stdin",
     "output_type": "stream",
     "text": [
      "user :  hi\n"
     ]
    },
    {
     "name": "stdout",
     "output_type": "stream",
     "text": [
      "Techstack bot : Hi, I'm techstack bot, I'm here to help you, please ask your query\n"
     ]
    }
   ],
   "source": [
    "while True:\n",
    "    \n",
    "    text1 = input(\"user : \")\n",
    "    cos = []\n",
    "    for i in dic.keys():\n",
    "        text2 = i\n",
    "        c = cos_simi(text1,text2)\n",
    "        cos.append(c)\n",
    "\n",
    "    maxx = max(cos)\n",
    "    ind = cos.index(maxx)\n",
    "    ans = list(dic.values())\n",
    "    print(\"Techstack bot :\",ans[ind])\n",
    "    \n",
    "    if (text1== \"thank you\"):\n",
    "        break"
   ]
  },
  {
   "cell_type": "code",
   "execution_count": null,
   "id": "dimensional-insider",
   "metadata": {},
   "outputs": [],
   "source": []
  },
  {
   "cell_type": "code",
   "execution_count": null,
   "id": "nearby-donor",
   "metadata": {},
   "outputs": [],
   "source": []
  },
  {
   "cell_type": "code",
   "execution_count": null,
   "id": "grand-equipment",
   "metadata": {},
   "outputs": [],
   "source": []
  }
 ],
 "metadata": {
  "kernelspec": {
   "display_name": "Python 3",
   "language": "python",
   "name": "python3"
  },
  "language_info": {
   "codemirror_mode": {
    "name": "ipython",
    "version": 3
   },
   "file_extension": ".py",
   "mimetype": "text/x-python",
   "name": "python",
   "nbconvert_exporter": "python",
   "pygments_lexer": "ipython3",
   "version": "3.8.8"
  }
 },
 "nbformat": 4,
 "nbformat_minor": 5
}
